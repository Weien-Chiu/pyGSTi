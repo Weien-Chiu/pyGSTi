{
 "cells": [
  {
   "cell_type": "code",
   "execution_count": 1,
   "metadata": {},
   "outputs": [],
   "source": [
    "import numpy as np\n",
    "from matplotlib import pyplot as plt\n",
    "from pprint import pprint\n",
    "np.set_printoptions(precision=4, linewidth=120, floatmode='maxprec_equal')"
   ]
  },
  {
   "cell_type": "code",
   "execution_count": 2,
   "metadata": {},
   "outputs": [],
   "source": [
    "import pygsti\n",
    "import pygsti.extras.interpygate as interp\n",
    "from pygsti.tools.basistools import change_basis\n",
    "from pygsti.modelpacks import smq1Q_XY"
   ]
  },
  {
   "cell_type": "code",
   "execution_count": 3,
   "metadata": {},
   "outputs": [],
   "source": [
    "from pathlib import Path\n",
    "working_dir = Path.cwd()"
   ]
  },
  {
   "cell_type": "markdown",
   "metadata": {},
   "source": [
    "## Build model gate"
   ]
  },
  {
   "cell_type": "code",
   "execution_count": 4,
   "metadata": {},
   "outputs": [],
   "source": [
    "sigI = np.array([[1.,0],[0, 1]], dtype='complex')\n",
    "sigX = np.array([[0, 1],[1, 0]], dtype='complex')\n",
    "sigY = np.array([[0,-1],[1, 0]], dtype='complex') * 1.j\n",
    "sigZ = np.array([[1, 0],[0,-1]], dtype='complex')\n",
    "sigM = (sigX - 1.j*sigY)/2.\n",
    "sigP = (sigX + 1.j*sigY)/2."
   ]
  },
  {
   "cell_type": "code",
   "execution_count": 5,
   "metadata": {},
   "outputs": [],
   "source": [
    "class SingleQubitTargetOp(pygsti.modelmembers.operations.OpFactory):\n",
    "\n",
    "    def __init__(self):\n",
    "        self.process = self.create_target_gate\n",
    "        pygsti.modelmembers.operations.OpFactory.__init__(self, 1, evotype=\"densitymx\")\n",
    "        self.dim = 4\n",
    "\n",
    "    def create_target_gate(self, v):\n",
    "        \n",
    "        phi, theta = v\n",
    "        target_unitary = (np.cos(theta/2) * sigI + \n",
    "                          1.j * np.sin(theta/2) * (np.cos(phi) * sigX + np.sin(phi) * sigY))\n",
    "        superop = change_basis(np.kron(target_unitary.conj(), target_unitary), 'col', 'pp')\n",
    "\n",
    "        return superop\n",
    "    \n",
    "    def create_object(self, args=None, sslbls=None):\n",
    "        assert(sslbls is None)\n",
    "        mx = self.process([*args])\n",
    "        return pygsti.modelmembers.operations.StaticArbitraryOp(mx)"
   ]
  },
  {
   "cell_type": "code",
   "execution_count": 6,
   "metadata": {},
   "outputs": [],
   "source": [
    "class SingleQubitGate(interp.PhysicalProcess):\n",
    "    def __init__(self, \n",
    "                 verbose=False,\n",
    "                 cont_param_gate = False,\n",
    "                 num_params = None,\n",
    "#                  process_shape = (4, 4),\n",
    "                 item_shape = (4,4),\n",
    "                 aux_shape = None,\n",
    "                 num_params_evaluated_as_group = 0,\n",
    "                 basis = 'pp'):\n",
    "\n",
    "        self.verbose = verbose\n",
    "\n",
    "        self.cont_param_gate = cont_param_gate\n",
    "\n",
    "        self.num_params = num_params\n",
    "        self.item_shape = item_shape\n",
    "\n",
    "        self.aux_shape = aux_shape\n",
    "        self.num_params_evaluated_as_group = num_params_evaluated_as_group\n",
    "        self.basis = basis\n",
    "   \n",
    "    def create_process_matrix(self, v, comm=None, return_generator=False):                                                                                                                                                                                             \n",
    "\n",
    "        processes = []\n",
    "        phi, theta, t = v\n",
    "        theta = theta * t\n",
    "        target_unitary = (np.cos(theta/2) * sigI + \n",
    "                          1.j * np.sin(theta/2) * (np.cos(phi) * sigX + np.sin(phi) * sigY))\n",
    "        superop = change_basis(np.kron(target_unitary.conj(), target_unitary), 'col', 'pp')\n",
    "        processes += [superop]\n",
    "        return np.array(processes) if (processes is not None) else None\n",
    "\n",
    "    def create_aux_info(self, v, comm=None):\n",
    "        return []  # matches aux_shape=() above\n",
    "    \n",
    "    def create_process_matrices(self, v, grouped_v, comm=None):\n",
    "        assert(len(grouped_v) == 1)  # we expect a single \"grouped\" parameter\n",
    "\n",
    "        processes = []\n",
    "        times = grouped_v[0]\n",
    "        phi_in, theta_in = v\n",
    "        for t in times:\n",
    "            phi = phi_in\n",
    "            theta = theta_in * t\n",
    "            target_unitary = (np.cos(theta/2) * sigI + \n",
    "                              1.j * np.sin(theta/2) * (np.cos(phi) * sigX + np.sin(phi) * sigY))\n",
    "            superop = change_basis(np.kron(target_unitary.conj(), target_unitary), 'col', 'pp')\n",
    "            processes += [superop]\n",
    "        return np.array(processes) if (processes is not None) else None\n",
    "\n",
    "    def create_aux_infos(self, v, grouped_v, comm=None):\n",
    "        import numpy as np\n",
    "        times = grouped_v[0]\n",
    "        return [ [] for t in times] # list elements must match aux_shape=() above"
   ]
  },
  {
   "cell_type": "code",
   "execution_count": 7,
   "metadata": {},
   "outputs": [],
   "source": [
    "param_ranges = [(0.9,1.1,3)]\n",
    "\n",
    "arg_ranges = [2*np.pi*(1+np.cos(np.linspace(np.pi,0, 7)))/2,\n",
    "              (0, np.pi, 3)] \n",
    "arg_indices = [0,1]\n",
    "\n",
    "\n",
    "target_op = SingleQubitTargetOp()\n",
    "gate_process = SingleQubitGate(num_params = 3,num_params_evaluated_as_group = 1)"
   ]
  },
  {
   "cell_type": "code",
   "execution_count": 8,
   "metadata": {
    "scrolled": false
   },
   "outputs": [
    {
     "name": "stderr",
     "output_type": "stream",
     "text": [
      "/Users/kyoung/Documents/Research/dev/venvs/pygsti_interpygate/lib/pyGSTi/pygsti/extras/interpygate/core.py:637: ComplexWarning: Casting complex values to real discards the imaginary part\n",
      "  data[ind] = val     # (other procs can just return None, so val = None)\n"
     ]
    },
    {
     "ename": "LinAlgError",
     "evalue": "3-th leading minor of the array is not positive definite",
     "output_type": "error",
     "traceback": [
      "\u001b[0;31m---------------------------------------------------------------------------\u001b[0m",
      "\u001b[0;31mLinAlgError\u001b[0m                               Traceback (most recent call last)",
      "File \u001b[0;32m~/Documents/Research/dev/venvs/pygsti_interpygate/lib/pyGSTi/pygsti/extras/interpygate/core.py:106\u001b[0m, in \u001b[0;36m_PhysicalBase.to_ham_chol\u001b[0;34m(self, errorgen)\u001b[0m\n\u001b[1;32m    105\u001b[0m \u001b[38;5;28;01mtry\u001b[39;00m:\n\u001b[0;32m--> 106\u001b[0m     chol \u001b[38;5;241m=\u001b[39m _flatten_tri(\u001b[43mcholesky\u001b[49m\u001b[43m(\u001b[49m\u001b[43mdiss\u001b[49m\u001b[43m)\u001b[49m)\n\u001b[1;32m    107\u001b[0m \u001b[38;5;28;01mexcept\u001b[39;00m:\n\u001b[1;32m    108\u001b[0m     \u001b[38;5;66;03m# TODO: This will introduce 10^-7 errors when they might not exist. What did Erik do?\u001b[39;00m\n",
      "File \u001b[0;32m~/Documents/Research/dev/venvs/pygsti_interpygate/lib/python3.9/site-packages/scipy/linalg/_decomp_cholesky.py:88\u001b[0m, in \u001b[0;36mcholesky\u001b[0;34m(a, lower, overwrite_a, check_finite)\u001b[0m\n\u001b[1;32m     46\u001b[0m \u001b[38;5;124;03m\"\"\"\u001b[39;00m\n\u001b[1;32m     47\u001b[0m \u001b[38;5;124;03mCompute the Cholesky decomposition of a matrix.\u001b[39;00m\n\u001b[1;32m     48\u001b[0m \n\u001b[0;32m   (...)\u001b[0m\n\u001b[1;32m     86\u001b[0m \n\u001b[1;32m     87\u001b[0m \u001b[38;5;124;03m\"\"\"\u001b[39;00m\n\u001b[0;32m---> 88\u001b[0m c, lower \u001b[38;5;241m=\u001b[39m \u001b[43m_cholesky\u001b[49m\u001b[43m(\u001b[49m\u001b[43ma\u001b[49m\u001b[43m,\u001b[49m\u001b[43m \u001b[49m\u001b[43mlower\u001b[49m\u001b[38;5;241;43m=\u001b[39;49m\u001b[43mlower\u001b[49m\u001b[43m,\u001b[49m\u001b[43m \u001b[49m\u001b[43moverwrite_a\u001b[49m\u001b[38;5;241;43m=\u001b[39;49m\u001b[43moverwrite_a\u001b[49m\u001b[43m,\u001b[49m\u001b[43m \u001b[49m\u001b[43mclean\u001b[49m\u001b[38;5;241;43m=\u001b[39;49m\u001b[38;5;28;43;01mTrue\u001b[39;49;00m\u001b[43m,\u001b[49m\n\u001b[1;32m     89\u001b[0m \u001b[43m                     \u001b[49m\u001b[43mcheck_finite\u001b[49m\u001b[38;5;241;43m=\u001b[39;49m\u001b[43mcheck_finite\u001b[49m\u001b[43m)\u001b[49m\n\u001b[1;32m     90\u001b[0m \u001b[38;5;28;01mreturn\u001b[39;00m c\n",
      "File \u001b[0;32m~/Documents/Research/dev/venvs/pygsti_interpygate/lib/python3.9/site-packages/scipy/linalg/_decomp_cholesky.py:37\u001b[0m, in \u001b[0;36m_cholesky\u001b[0;34m(a, lower, overwrite_a, clean, check_finite)\u001b[0m\n\u001b[1;32m     36\u001b[0m \u001b[38;5;28;01mif\u001b[39;00m info \u001b[38;5;241m>\u001b[39m \u001b[38;5;241m0\u001b[39m:\n\u001b[0;32m---> 37\u001b[0m     \u001b[38;5;28;01mraise\u001b[39;00m LinAlgError(\u001b[38;5;124m\"\u001b[39m\u001b[38;5;132;01m%d\u001b[39;00m\u001b[38;5;124m-th leading minor of the array is not positive \u001b[39m\u001b[38;5;124m\"\u001b[39m\n\u001b[1;32m     38\u001b[0m                       \u001b[38;5;124m\"\u001b[39m\u001b[38;5;124mdefinite\u001b[39m\u001b[38;5;124m\"\u001b[39m \u001b[38;5;241m%\u001b[39m info)\n\u001b[1;32m     39\u001b[0m \u001b[38;5;28;01mif\u001b[39;00m info \u001b[38;5;241m<\u001b[39m \u001b[38;5;241m0\u001b[39m:\n",
      "\u001b[0;31mLinAlgError\u001b[0m: 1-th leading minor of the array is not positive definite",
      "\nDuring handling of the above exception, another exception occurred:\n",
      "\u001b[0;31mLinAlgError\u001b[0m                               Traceback (most recent call last)",
      "Cell \u001b[0;32mIn[8], line 1\u001b[0m\n\u001b[0;32m----> 1\u001b[0m opfactory_linear \u001b[38;5;241m=\u001b[39m \u001b[43minterp\u001b[49m\u001b[38;5;241;43m.\u001b[39;49m\u001b[43mInterpolatedOpFactory\u001b[49m\u001b[38;5;241;43m.\u001b[39;49m\u001b[43mcreate_by_interpolating_physical_process\u001b[49m\u001b[43m(\u001b[49m\n\u001b[1;32m      2\u001b[0m \u001b[43m    \u001b[49m\u001b[43mtarget_op\u001b[49m\u001b[43m,\u001b[49m\u001b[43m \u001b[49m\u001b[43mgate_process\u001b[49m\u001b[43m,\u001b[49m\u001b[43m \u001b[49m\u001b[43margument_ranges\u001b[49m\u001b[38;5;241;43m=\u001b[39;49m\u001b[43marg_ranges\u001b[49m\u001b[43m,\u001b[49m\u001b[43m \u001b[49m\u001b[43mparameter_ranges\u001b[49m\u001b[38;5;241;43m=\u001b[39;49m\u001b[43mparam_ranges\u001b[49m\u001b[43m,\u001b[49m\u001b[43m \u001b[49m\n\u001b[1;32m      3\u001b[0m \u001b[43m    \u001b[49m\u001b[43margument_indices\u001b[49m\u001b[38;5;241;43m=\u001b[39;49m\u001b[43marg_indices\u001b[49m\u001b[43m,\u001b[49m\u001b[43m \u001b[49m\u001b[43minterpolator_and_args\u001b[49m\u001b[38;5;241;43m=\u001b[39;49m\u001b[38;5;124;43m'\u001b[39;49m\u001b[38;5;124;43mlinear\u001b[39;49m\u001b[38;5;124;43m'\u001b[39;49m\u001b[43m)\u001b[49m\n\u001b[1;32m      5\u001b[0m opfactory_spline \u001b[38;5;241m=\u001b[39m interp\u001b[38;5;241m.\u001b[39mInterpolatedOpFactory\u001b[38;5;241m.\u001b[39mcreate_by_interpolating_physical_process(\n\u001b[1;32m      6\u001b[0m     target_op, gate_process, argument_ranges\u001b[38;5;241m=\u001b[39marg_ranges, parameter_ranges\u001b[38;5;241m=\u001b[39mparam_ranges, \n\u001b[1;32m      7\u001b[0m     argument_indices\u001b[38;5;241m=\u001b[39marg_indices, interpolator_and_args\u001b[38;5;241m=\u001b[39m\u001b[38;5;124m'\u001b[39m\u001b[38;5;124mspline\u001b[39m\u001b[38;5;124m'\u001b[39m)\n",
      "File \u001b[0;32m~/Documents/Research/dev/venvs/pygsti_interpygate/lib/pyGSTi/pygsti/extras/interpygate/core.py:246\u001b[0m, in \u001b[0;36mInterpolatedOpFactory.create_by_interpolating_physical_process\u001b[0;34m(cls, target_factory, physical_process, argument_ranges, parameter_ranges, argument_indices, comm, mpi_workers_per_process, interpolator_and_args, verbosity, ensure_cptp)\u001b[0m\n\u001b[1;32m    242\u001b[0m \u001b[38;5;28;01mfor\u001b[39;00m i, param_range \u001b[38;5;129;01min\u001b[39;00m \u001b[38;5;28mzip\u001b[39m(param_indices, parameter_ranges): ranges[i] \u001b[38;5;241m=\u001b[39m param_range\n\u001b[1;32m    244\u001b[0m base_interp_builder \u001b[38;5;241m=\u001b[39m InterpolatedQuantityFactory(fn, process_shape, ranges, \u001b[38;5;28;01mNone\u001b[39;00m, ngroups,\n\u001b[1;32m    245\u001b[0m                                                   interpolator_and_args)\n\u001b[0;32m--> 246\u001b[0m base_interpolator \u001b[38;5;241m=\u001b[39m \u001b[43mbase_interp_builder\u001b[49m\u001b[38;5;241;43m.\u001b[39;49m\u001b[43mbuild\u001b[49m\u001b[43m(\u001b[49m\u001b[43mcomm\u001b[49m\u001b[43m,\u001b[49m\u001b[43m \u001b[49m\u001b[43mmpi_workers_per_process\u001b[49m\u001b[43m,\u001b[49m\u001b[43m \u001b[49m\u001b[43mverbosity\u001b[49m\u001b[43m)\u001b[49m\n\u001b[1;32m    248\u001b[0m \u001b[38;5;28;01mif\u001b[39;00m physical_process\u001b[38;5;241m.\u001b[39maux_shape \u001b[38;5;129;01mis\u001b[39;00m \u001b[38;5;129;01mnot\u001b[39;00m \u001b[38;5;28;01mNone\u001b[39;00m:\n\u001b[1;32m    250\u001b[0m     aux_shape \u001b[38;5;241m=\u001b[39m physical_process\u001b[38;5;241m.\u001b[39maux_shape\n",
      "File \u001b[0;32m~/Documents/Research/dev/venvs/pygsti_interpygate/lib/pyGSTi/pygsti/extras/interpygate/core.py:671\u001b[0m, in \u001b[0;36mInterpolatedQuantityFactory.build\u001b[0;34m(self, comm, mpi_workers_per_process, verbosity)\u001b[0m\n\u001b[1;32m    668\u001b[0m     rank \u001b[38;5;241m=\u001b[39m \u001b[38;5;241m0\u001b[39m\n\u001b[1;32m    670\u001b[0m \u001b[38;5;28;01mif\u001b[39;00m \u001b[38;5;28mself\u001b[39m\u001b[38;5;241m.\u001b[39mdata \u001b[38;5;129;01mis\u001b[39;00m \u001b[38;5;28;01mNone\u001b[39;00m \u001b[38;5;129;01mor\u001b[39;00m \u001b[38;5;28mself\u001b[39m\u001b[38;5;241m.\u001b[39mpoints \u001b[38;5;129;01mis\u001b[39;00m \u001b[38;5;28;01mNone\u001b[39;00m:\n\u001b[0;32m--> 671\u001b[0m     \u001b[38;5;28;43mself\u001b[39;49m\u001b[38;5;241;43m.\u001b[39;49m\u001b[43mcompute_data\u001b[49m\u001b[43m(\u001b[49m\u001b[43mcomm\u001b[49m\u001b[43m,\u001b[49m\u001b[43m \u001b[49m\u001b[43mmpi_workers_per_process\u001b[49m\u001b[43m,\u001b[49m\u001b[43m \u001b[49m\u001b[43mprinter\u001b[49m\u001b[43m)\u001b[49m\n\u001b[1;32m    673\u001b[0m \u001b[38;5;28mself\u001b[39m\u001b[38;5;241m.\u001b[39minterpolator \u001b[38;5;241m=\u001b[39m _np\u001b[38;5;241m.\u001b[39mempty(\u001b[38;5;28mself\u001b[39m\u001b[38;5;241m.\u001b[39mqty_shape, dtype\u001b[38;5;241m=\u001b[39m\u001b[38;5;28mobject\u001b[39m)\n\u001b[1;32m    674\u001b[0m all_index_tuples \u001b[38;5;241m=\u001b[39m _split(size, \u001b[38;5;28mlist\u001b[39m(_itertools\u001b[38;5;241m.\u001b[39mproduct(\u001b[38;5;241m*\u001b[39m[\u001b[38;5;28mrange\u001b[39m(d) \u001b[38;5;28;01mfor\u001b[39;00m d \u001b[38;5;129;01min\u001b[39;00m \u001b[38;5;28mself\u001b[39m\u001b[38;5;241m.\u001b[39mqty_shape])),\n\u001b[1;32m    675\u001b[0m                           cast_to_array\u001b[38;5;241m=\u001b[39m\u001b[38;5;28;01mFalse\u001b[39;00m)\n",
      "File \u001b[0;32m~/Documents/Research/dev/venvs/pygsti_interpygate/lib/pyGSTi/pygsti/extras/interpygate/core.py:634\u001b[0m, in \u001b[0;36mInterpolatedQuantityFactory.compute_data\u001b[0;34m(self, comm, mpi_workers_per_process, verbosity)\u001b[0m\n\u001b[1;32m    632\u001b[0m \u001b[38;5;28;01mfor\u001b[39;00m ind, point \u001b[38;5;129;01min\u001b[39;00m \u001b[38;5;28menumerate\u001b[39m(my_points):\n\u001b[1;32m    633\u001b[0m     printer\u001b[38;5;241m.\u001b[39mlog(\u001b[38;5;124m\"\u001b[39m\u001b[38;5;124mEvaluating index \u001b[39m\u001b[38;5;132;01m%d\u001b[39;00m\u001b[38;5;124m , data = \u001b[39m\u001b[38;5;132;01m%s\u001b[39;00m\u001b[38;5;124m\"\u001b[39m \u001b[38;5;241m%\u001b[39m (ind, \u001b[38;5;28mstr\u001b[39m(point)))\n\u001b[0;32m--> 634\u001b[0m     val \u001b[38;5;241m=\u001b[39m \u001b[38;5;28;43mself\u001b[39;49m\u001b[38;5;241;43m.\u001b[39;49m\u001b[43mfn_to_interpolate\u001b[49m\u001b[43m(\u001b[49m\u001b[43mpoint\u001b[49m\u001b[43m,\u001b[49m\u001b[43m \u001b[49m\u001b[43mgrouped_axial_pts\u001b[49m\u001b[43m,\u001b[49m\u001b[43m \u001b[49m\u001b[43mcomm\u001b[49m\u001b[38;5;241;43m=\u001b[39;49m\u001b[43mgroupcomm\u001b[49m\u001b[43m)\u001b[49m \u001b[38;5;28;01mif\u001b[39;00m grouped_axial_pts \\\n\u001b[1;32m    635\u001b[0m         \u001b[38;5;28;01melse\u001b[39;00m \u001b[38;5;28mself\u001b[39m\u001b[38;5;241m.\u001b[39mfn_to_interpolate(point, comm\u001b[38;5;241m=\u001b[39mgroupcomm)\n\u001b[1;32m    636\u001b[0m     \u001b[38;5;28;01mif\u001b[39;00m rank \u001b[38;5;129;01min\u001b[39;00m root_ranks:  \u001b[38;5;66;03m# only the root proc of each groupcomm needs to produce a result\u001b[39;00m\n\u001b[1;32m    637\u001b[0m         data[ind] \u001b[38;5;241m=\u001b[39m val     \u001b[38;5;66;03m# (other procs can just return None, so val = None)\u001b[39;00m\n",
      "File \u001b[0;32m~/Documents/Research/dev/venvs/pygsti_interpygate/lib/pyGSTi/pygsti/extras/interpygate/core.py:226\u001b[0m, in \u001b[0;36mInterpolatedOpFactory.create_by_interpolating_physical_process.<locals>.fn\u001b[0;34m(v, grouped_v, comm)\u001b[0m\n\u001b[1;32m    223\u001b[0m     target_mx \u001b[38;5;241m=\u001b[39m target_op\u001b[38;5;241m.\u001b[39mto_dense()\n\u001b[1;32m    225\u001b[0m     ret[index_tup] \u001b[38;5;241m=\u001b[39m _ot\u001b[38;5;241m.\u001b[39merror_generator(process_mxs[index_tup], target_mx, physical_process\u001b[38;5;241m.\u001b[39mbasis, \u001b[38;5;124m\"\u001b[39m\u001b[38;5;124mlogGTi-quick\u001b[39m\u001b[38;5;124m\"\u001b[39m)\n\u001b[0;32m--> 226\u001b[0m \u001b[38;5;28;01mreturn\u001b[39;00m \u001b[43mvectorized_to_ham_chol\u001b[49m\u001b[43m(\u001b[49m\u001b[43mret\u001b[49m\u001b[43m)\u001b[49m\n",
      "File \u001b[0;32m~/Documents/Research/dev/venvs/pygsti_interpygate/lib/pyGSTi/pygsti/extras/interpygate/core.py:191\u001b[0m, in \u001b[0;36mInterpolatedOpFactory.create_by_interpolating_physical_process.<locals>.vectorized_to_ham_chol\u001b[0;34m(errorgens)\u001b[0m\n\u001b[1;32m    189\u001b[0m     \u001b[38;5;28;01melif\u001b[39;00m \u001b[38;5;28mlen\u001b[39m(errorgens\u001b[38;5;241m.\u001b[39mshape) \u001b[38;5;241m>\u001b[39m\u001b[38;5;241m2\u001b[39m:\n\u001b[1;32m    190\u001b[0m         errorgens_temp \u001b[38;5;241m=\u001b[39m errorgens\u001b[38;5;241m.\u001b[39mreshape(_np\u001b[38;5;241m.\u001b[39mprod(errorgens\u001b[38;5;241m.\u001b[39mshape[:\u001b[38;5;241m-\u001b[39m\u001b[38;5;241m2\u001b[39m]),errorgens\u001b[38;5;241m.\u001b[39mshape[\u001b[38;5;241m-\u001b[39m\u001b[38;5;241m2\u001b[39m],errorgens\u001b[38;5;241m.\u001b[39mshape[\u001b[38;5;241m-\u001b[39m\u001b[38;5;241m1\u001b[39m])\n\u001b[0;32m--> 191\u001b[0m         a \u001b[38;5;241m=\u001b[39m _np\u001b[38;5;241m.\u001b[39marray([physical_process\u001b[38;5;241m.\u001b[39mto_ham_chol(egen) \u001b[38;5;28;01mfor\u001b[39;00m egen \u001b[38;5;129;01min\u001b[39;00m errorgens_temp])\n\u001b[1;32m    192\u001b[0m         \u001b[38;5;28;01mreturn\u001b[39;00m a\u001b[38;5;241m.\u001b[39mreshape(errorgens\u001b[38;5;241m.\u001b[39mshape[:\u001b[38;5;241m-\u001b[39m\u001b[38;5;241m2\u001b[39m] \u001b[38;5;241m+\u001b[39m (\u001b[38;5;28mlen\u001b[39m(a[\u001b[38;5;241m0\u001b[39m]),))\n\u001b[1;32m    193\u001b[0m \u001b[38;5;28;01melse\u001b[39;00m:\n",
      "File \u001b[0;32m~/Documents/Research/dev/venvs/pygsti_interpygate/lib/pyGSTi/pygsti/extras/interpygate/core.py:191\u001b[0m, in \u001b[0;36m<listcomp>\u001b[0;34m(.0)\u001b[0m\n\u001b[1;32m    189\u001b[0m     \u001b[38;5;28;01melif\u001b[39;00m \u001b[38;5;28mlen\u001b[39m(errorgens\u001b[38;5;241m.\u001b[39mshape) \u001b[38;5;241m>\u001b[39m\u001b[38;5;241m2\u001b[39m:\n\u001b[1;32m    190\u001b[0m         errorgens_temp \u001b[38;5;241m=\u001b[39m errorgens\u001b[38;5;241m.\u001b[39mreshape(_np\u001b[38;5;241m.\u001b[39mprod(errorgens\u001b[38;5;241m.\u001b[39mshape[:\u001b[38;5;241m-\u001b[39m\u001b[38;5;241m2\u001b[39m]),errorgens\u001b[38;5;241m.\u001b[39mshape[\u001b[38;5;241m-\u001b[39m\u001b[38;5;241m2\u001b[39m],errorgens\u001b[38;5;241m.\u001b[39mshape[\u001b[38;5;241m-\u001b[39m\u001b[38;5;241m1\u001b[39m])\n\u001b[0;32m--> 191\u001b[0m         a \u001b[38;5;241m=\u001b[39m _np\u001b[38;5;241m.\u001b[39marray([\u001b[43mphysical_process\u001b[49m\u001b[38;5;241;43m.\u001b[39;49m\u001b[43mto_ham_chol\u001b[49m\u001b[43m(\u001b[49m\u001b[43megen\u001b[49m\u001b[43m)\u001b[49m \u001b[38;5;28;01mfor\u001b[39;00m egen \u001b[38;5;129;01min\u001b[39;00m errorgens_temp])\n\u001b[1;32m    192\u001b[0m         \u001b[38;5;28;01mreturn\u001b[39;00m a\u001b[38;5;241m.\u001b[39mreshape(errorgens\u001b[38;5;241m.\u001b[39mshape[:\u001b[38;5;241m-\u001b[39m\u001b[38;5;241m2\u001b[39m] \u001b[38;5;241m+\u001b[39m (\u001b[38;5;28mlen\u001b[39m(a[\u001b[38;5;241m0\u001b[39m]),))\n\u001b[1;32m    193\u001b[0m \u001b[38;5;28;01melse\u001b[39;00m:\n",
      "File \u001b[0;32m~/Documents/Research/dev/venvs/pygsti_interpygate/lib/pyGSTi/pygsti/extras/interpygate/core.py:110\u001b[0m, in \u001b[0;36m_PhysicalBase.to_ham_chol\u001b[0;34m(self, errorgen)\u001b[0m\n\u001b[1;32m    107\u001b[0m \u001b[38;5;28;01mexcept\u001b[39;00m:\n\u001b[1;32m    108\u001b[0m     \u001b[38;5;66;03m# TODO: This will introduce 10^-7 errors when they might not exist. What did Erik do?\u001b[39;00m\n\u001b[1;32m    109\u001b[0m     diss \u001b[38;5;241m+\u001b[39m\u001b[38;5;241m=\u001b[39m _np\u001b[38;5;241m.\u001b[39meye(\u001b[38;5;28mlen\u001b[39m(diss))\u001b[38;5;241m*\u001b[39m\u001b[38;5;241m1.e-5\u001b[39m\n\u001b[0;32m--> 110\u001b[0m     chol \u001b[38;5;241m=\u001b[39m _flatten_tri(\u001b[43mcholesky\u001b[49m\u001b[43m(\u001b[49m\u001b[43mdiss\u001b[49m\u001b[43m)\u001b[49m)\n\u001b[1;32m    112\u001b[0m \u001b[38;5;28;01mreturn\u001b[39;00m hams\u001b[38;5;241m.\u001b[39mtolist() \u001b[38;5;241m+\u001b[39m chol\n",
      "File \u001b[0;32m~/Documents/Research/dev/venvs/pygsti_interpygate/lib/python3.9/site-packages/scipy/linalg/_decomp_cholesky.py:88\u001b[0m, in \u001b[0;36mcholesky\u001b[0;34m(a, lower, overwrite_a, check_finite)\u001b[0m\n\u001b[1;32m     45\u001b[0m \u001b[38;5;28;01mdef\u001b[39;00m \u001b[38;5;21mcholesky\u001b[39m(a, lower\u001b[38;5;241m=\u001b[39m\u001b[38;5;28;01mFalse\u001b[39;00m, overwrite_a\u001b[38;5;241m=\u001b[39m\u001b[38;5;28;01mFalse\u001b[39;00m, check_finite\u001b[38;5;241m=\u001b[39m\u001b[38;5;28;01mTrue\u001b[39;00m):\n\u001b[1;32m     46\u001b[0m     \u001b[38;5;124;03m\"\"\"\u001b[39;00m\n\u001b[1;32m     47\u001b[0m \u001b[38;5;124;03m    Compute the Cholesky decomposition of a matrix.\u001b[39;00m\n\u001b[1;32m     48\u001b[0m \n\u001b[0;32m   (...)\u001b[0m\n\u001b[1;32m     86\u001b[0m \n\u001b[1;32m     87\u001b[0m \u001b[38;5;124;03m    \"\"\"\u001b[39;00m\n\u001b[0;32m---> 88\u001b[0m     c, lower \u001b[38;5;241m=\u001b[39m \u001b[43m_cholesky\u001b[49m\u001b[43m(\u001b[49m\u001b[43ma\u001b[49m\u001b[43m,\u001b[49m\u001b[43m \u001b[49m\u001b[43mlower\u001b[49m\u001b[38;5;241;43m=\u001b[39;49m\u001b[43mlower\u001b[49m\u001b[43m,\u001b[49m\u001b[43m \u001b[49m\u001b[43moverwrite_a\u001b[49m\u001b[38;5;241;43m=\u001b[39;49m\u001b[43moverwrite_a\u001b[49m\u001b[43m,\u001b[49m\u001b[43m \u001b[49m\u001b[43mclean\u001b[49m\u001b[38;5;241;43m=\u001b[39;49m\u001b[38;5;28;43;01mTrue\u001b[39;49;00m\u001b[43m,\u001b[49m\n\u001b[1;32m     89\u001b[0m \u001b[43m                         \u001b[49m\u001b[43mcheck_finite\u001b[49m\u001b[38;5;241;43m=\u001b[39;49m\u001b[43mcheck_finite\u001b[49m\u001b[43m)\u001b[49m\n\u001b[1;32m     90\u001b[0m     \u001b[38;5;28;01mreturn\u001b[39;00m c\n",
      "File \u001b[0;32m~/Documents/Research/dev/venvs/pygsti_interpygate/lib/python3.9/site-packages/scipy/linalg/_decomp_cholesky.py:37\u001b[0m, in \u001b[0;36m_cholesky\u001b[0;34m(a, lower, overwrite_a, clean, check_finite)\u001b[0m\n\u001b[1;32m     35\u001b[0m c, info \u001b[38;5;241m=\u001b[39m potrf(a1, lower\u001b[38;5;241m=\u001b[39mlower, overwrite_a\u001b[38;5;241m=\u001b[39moverwrite_a, clean\u001b[38;5;241m=\u001b[39mclean)\n\u001b[1;32m     36\u001b[0m \u001b[38;5;28;01mif\u001b[39;00m info \u001b[38;5;241m>\u001b[39m \u001b[38;5;241m0\u001b[39m:\n\u001b[0;32m---> 37\u001b[0m     \u001b[38;5;28;01mraise\u001b[39;00m LinAlgError(\u001b[38;5;124m\"\u001b[39m\u001b[38;5;132;01m%d\u001b[39;00m\u001b[38;5;124m-th leading minor of the array is not positive \u001b[39m\u001b[38;5;124m\"\u001b[39m\n\u001b[1;32m     38\u001b[0m                       \u001b[38;5;124m\"\u001b[39m\u001b[38;5;124mdefinite\u001b[39m\u001b[38;5;124m\"\u001b[39m \u001b[38;5;241m%\u001b[39m info)\n\u001b[1;32m     39\u001b[0m \u001b[38;5;28;01mif\u001b[39;00m info \u001b[38;5;241m<\u001b[39m \u001b[38;5;241m0\u001b[39m:\n\u001b[1;32m     40\u001b[0m     \u001b[38;5;28;01mraise\u001b[39;00m \u001b[38;5;167;01mValueError\u001b[39;00m(\u001b[38;5;124m'\u001b[39m\u001b[38;5;124mLAPACK reported an illegal value in \u001b[39m\u001b[38;5;132;01m{}\u001b[39;00m\u001b[38;5;124m-th argument\u001b[39m\u001b[38;5;124m'\u001b[39m\n\u001b[1;32m     41\u001b[0m                      \u001b[38;5;124m'\u001b[39m\u001b[38;5;124mon entry to \u001b[39m\u001b[38;5;124m\"\u001b[39m\u001b[38;5;124mPOTRF\u001b[39m\u001b[38;5;124m\"\u001b[39m\u001b[38;5;124m.\u001b[39m\u001b[38;5;124m'\u001b[39m\u001b[38;5;241m.\u001b[39mformat(\u001b[38;5;241m-\u001b[39minfo))\n",
      "\u001b[0;31mLinAlgError\u001b[0m: 3-th leading minor of the array is not positive definite"
     ]
    }
   ],
   "source": [
    "opfactory_linear = interp.InterpolatedOpFactory.create_by_interpolating_physical_process(\n",
    "    target_op, gate_process, argument_ranges=arg_ranges, parameter_ranges=param_ranges, \n",
    "    argument_indices=arg_indices, interpolator_and_args='linear')\n",
    "\n",
    "opfactory_spline = interp.InterpolatedOpFactory.create_by_interpolating_physical_process(\n",
    "    target_op, gate_process, argument_ranges=arg_ranges, parameter_ranges=param_ranges, \n",
    "    argument_indices=arg_indices, interpolator_and_args='spline')\n"
   ]
  },
  {
   "cell_type": "code",
   "execution_count": null,
   "metadata": {},
   "outputs": [
    {
     "name": "stdout",
     "output_type": "stream",
     "text": [
      "> \u001b[0;32m/Users/kyoung/Documents/Research/dev/venvs/pygsti_interpygate/lib/python3.9/site-packages/scipy/linalg/_decomp_cholesky.py\u001b[0m(37)\u001b[0;36m_cholesky\u001b[0;34m()\u001b[0m\n",
      "\u001b[0;32m     35 \u001b[0;31m    \u001b[0mc\u001b[0m\u001b[0;34m,\u001b[0m \u001b[0minfo\u001b[0m \u001b[0;34m=\u001b[0m \u001b[0mpotrf\u001b[0m\u001b[0;34m(\u001b[0m\u001b[0ma1\u001b[0m\u001b[0;34m,\u001b[0m \u001b[0mlower\u001b[0m\u001b[0;34m=\u001b[0m\u001b[0mlower\u001b[0m\u001b[0;34m,\u001b[0m \u001b[0moverwrite_a\u001b[0m\u001b[0;34m=\u001b[0m\u001b[0moverwrite_a\u001b[0m\u001b[0;34m,\u001b[0m \u001b[0mclean\u001b[0m\u001b[0;34m=\u001b[0m\u001b[0mclean\u001b[0m\u001b[0;34m)\u001b[0m\u001b[0;34m\u001b[0m\u001b[0;34m\u001b[0m\u001b[0m\n",
      "\u001b[0m\u001b[0;32m     36 \u001b[0;31m    \u001b[0;32mif\u001b[0m \u001b[0minfo\u001b[0m \u001b[0;34m>\u001b[0m \u001b[0;36m0\u001b[0m\u001b[0;34m:\u001b[0m\u001b[0;34m\u001b[0m\u001b[0;34m\u001b[0m\u001b[0m\n",
      "\u001b[0m\u001b[0;32m---> 37 \u001b[0;31m        raise LinAlgError(\"%d-th leading minor of the array is not positive \"\n",
      "\u001b[0m\u001b[0;32m     38 \u001b[0;31m                          \"definite\" % info)\n",
      "\u001b[0m\u001b[0;32m     39 \u001b[0;31m    \u001b[0;32mif\u001b[0m \u001b[0minfo\u001b[0m \u001b[0;34m<\u001b[0m \u001b[0;36m0\u001b[0m\u001b[0;34m:\u001b[0m\u001b[0;34m\u001b[0m\u001b[0;34m\u001b[0m\u001b[0m\n",
      "\u001b[0m\n",
      "ipdb> up\n",
      "> \u001b[0;32m/Users/kyoung/Documents/Research/dev/venvs/pygsti_interpygate/lib/python3.9/site-packages/scipy/linalg/_decomp_cholesky.py\u001b[0m(88)\u001b[0;36mcholesky\u001b[0;34m()\u001b[0m\n",
      "\u001b[0;32m     86 \u001b[0;31m\u001b[0;34m\u001b[0m\u001b[0m\n",
      "\u001b[0m\u001b[0;32m     87 \u001b[0;31m    \"\"\"\n",
      "\u001b[0m\u001b[0;32m---> 88 \u001b[0;31m    c, lower = _cholesky(a, lower=lower, overwrite_a=overwrite_a, clean=True,\n",
      "\u001b[0m\u001b[0;32m     89 \u001b[0;31m                         check_finite=check_finite)\n",
      "\u001b[0m\u001b[0;32m     90 \u001b[0;31m    \u001b[0;32mreturn\u001b[0m \u001b[0mc\u001b[0m\u001b[0;34m\u001b[0m\u001b[0;34m\u001b[0m\u001b[0m\n",
      "\u001b[0m\n",
      "ipdb> a\n",
      "a = array([[ 1.0000e-05+0.0000e+00j,  0.0000e+00+1.6987e-17j, -4.1633e-17+0.0000e+00j],\n",
      "       [ 0.0000e+00-1.6987e-17j,  1.0000e-05+0.0000e+00j,  0.0000e+00+1.5708e-01j],\n",
      "       [ 2.5447e-18+0.0000e+00j,  0.0000e+00-2.5447e-18j,  1.0000e-05+0.0000e+00j]])\n",
      "lower = False\n",
      "overwrite_a = False\n",
      "check_finite = True\n",
      "ipdb> a-a.conj().T\n",
      "a = array([[ 1.0000e-05+0.0000e+00j,  0.0000e+00+1.6987e-17j, -4.1633e-17+0.0000e+00j],\n",
      "       [ 0.0000e+00-1.6987e-17j,  1.0000e-05+0.0000e+00j,  0.0000e+00+1.5708e-01j],\n",
      "       [ 2.5447e-18+0.0000e+00j,  0.0000e+00-2.5447e-18j,  1.0000e-05+0.0000e+00j]])\n",
      "lower = False\n",
      "overwrite_a = False\n",
      "check_finite = True\n",
      "ipdb> x = a-a.conj().T\n",
      "ipdb> x\n",
      "array([[ 0.0000e+00+0.0000j,  0.0000e+00+0.0000j, -4.4178e-17+0.0000j],\n",
      "       [ 0.0000e+00+0.0000j,  0.0000e+00+0.0000j,  0.0000e+00+0.1571j],\n",
      "       [ 4.4178e-17+0.0000j,  0.0000e+00+0.1571j,  0.0000e+00+0.0000j]])\n"
     ]
    }
   ],
   "source": [
    "%debug"
   ]
  },
  {
   "cell_type": "markdown",
   "metadata": {},
   "source": [
    "### Check that the interpolator is working"
   ]
  },
  {
   "cell_type": "code",
   "execution_count": null,
   "metadata": {},
   "outputs": [],
   "source": [
    "if False:\n",
    "    indices = (2,3)\n",
    "    nparams = 30\n",
    "\n",
    "    x = np.linspace(0,2*np.pi, nparams)\n",
    "    y = np.linspace(0, np.pi, nparams)\n",
    "    for p in np.linspace(.9,1.1,5):\n",
    "\n",
    "        def interp_linear(x, y):    \n",
    "            op = opfactory_linear.create_op([x, y])\n",
    "            return op.base_interpolator([x,y,p])[indices]\n",
    "\n",
    "        def interp_spline(x, y):    \n",
    "            op = opfactory_spline.create_op([x, y])\n",
    "            return op.base_interpolator([x,y,p])[indices]\n",
    "\n",
    "        def truth(x, y):\n",
    "            tmp_gate = gate_process.create_process_matrix([x,y,p])[0]\n",
    "            tar_gate = target_op.create_target_gate([x,y])\n",
    "            return pygsti.error_generator(tmp_gate, tar_gate, 'pp', 'logGTi')[indices]\n",
    "\n",
    "\n",
    "        X, Y = np.meshgrid(x, y, indexing='ij')\n",
    "        Z_linear = np.zeros([nparams, nparams])\n",
    "        Z_spline = np.zeros([nparams, nparams])\n",
    "        Z_truth  = np.zeros([nparams, nparams])\n",
    "        for idx, xx in enumerate(x):\n",
    "            for idy, yy in enumerate(y):\n",
    "                Z_linear[idx,idy] = interp_linear(xx,yy)\n",
    "                Z_spline[idx,idy] = interp_spline(xx,yy)\n",
    "                Z_truth[idx,idy]  = truth(xx,yy)\n",
    "\n",
    "        fig = plt.figure(figsize=(10,10))\n",
    "        ax = plt.axes(projection='3d')\n",
    "\n",
    "        ax.plot_surface(X, Y, Z_linear-Z_truth, rstride=1, cstride=1,\n",
    "                        edgecolor='none', alpha=.8)\n",
    "        ax.plot_surface(X, Y, Z_spline-Z_truth, rstride=1, cstride=1,\n",
    "                        cmap='viridis', edgecolor='none', alpha=.8)\n",
    "\n",
    "        ax.set_xlabel('x')\n",
    "        ax.set_ylabel('y')\n",
    "        ax.set_zlabel('z')\n",
    "    #     ax.set_zlim(-1,1)\n",
    "        plt.show()"
   ]
  },
  {
   "cell_type": "markdown",
   "metadata": {},
   "source": [
    "# Build a model from this gate"
   ]
  },
  {
   "cell_type": "code",
   "execution_count": null,
   "metadata": {},
   "outputs": [],
   "source": [
    "x_gate = opfactory_spline.create_op([0,np.pi/4])\n",
    "y_gate = opfactory_spline.create_op([np.pi/2,np.pi/4])"
   ]
  },
  {
   "cell_type": "code",
   "execution_count": null,
   "metadata": {},
   "outputs": [],
   "source": [
    "x_gate.from_vector([1.03])\n",
    "y_gate.from_vector([1.0])\n",
    "print(np.round_(x_gate,4))\n",
    "print()\n",
    "print(np.round_(y_gate,4))"
   ]
  },
  {
   "cell_type": "code",
   "execution_count": null,
   "metadata": {},
   "outputs": [],
   "source": [
    "x_gate.parameter_bounds = np.array([[0.91, 1.09]])\n",
    "y_gate.parameter_bounds = np.array([[0.91, 1.09]])"
   ]
  },
  {
   "cell_type": "markdown",
   "metadata": {},
   "source": [
    "## Make a fake dataset"
   ]
  },
  {
   "cell_type": "code",
   "execution_count": null,
   "metadata": {},
   "outputs": [],
   "source": [
    "#Model only has Gx and Gy gates.  Let's rename them.\n",
    "\n",
    "model = pygsti.models.ExplicitOpModel([0],'pp')\n",
    "\n",
    "model['rho0'] = [ 1/np.sqrt(2), 0, 0, 1/np.sqrt(2) ] # density matrix [[1, 0], [0, 0]] in Pauli basis\n",
    "model['Mdefault'] = pygsti.modelmembers.povms.UnconstrainedPOVM(\n",
    "    {'0': [ 1/np.sqrt(2), 0, 0, 1/np.sqrt(2) ],   # projector onto [[1, 0], [0, 0]] in Pauli basis\n",
    "     '1': [ 1/np.sqrt(2), 0, 0, -1/np.sqrt(2) ] }, evotype=\"default\") # projector onto [[0, 0], [0, 1]] in Pauli basis\n",
    "model['Gxpi2',0] = x_gate\n",
    "model['Gypi2',0] = y_gate"
   ]
  },
  {
   "cell_type": "code",
   "execution_count": null,
   "metadata": {},
   "outputs": [],
   "source": [
    "model.num_params"
   ]
  },
  {
   "cell_type": "code",
   "execution_count": null,
   "metadata": {},
   "outputs": [],
   "source": [
    "# Define the error model used to generate data\n",
    "datagen_model = model.copy()\n",
    "datagen_params = datagen_model.to_vector()\n",
    "datagen_params[-2:] = [1.03,1.00]\n",
    "datagen_model.from_vector(datagen_params)\n",
    "datagen_model.probabilities( (('Gxpi2',0),('Gypi2',0),))"
   ]
  },
  {
   "cell_type": "code",
   "execution_count": null,
   "metadata": {},
   "outputs": [],
   "source": [
    "model.parameter_labels"
   ]
  },
  {
   "cell_type": "code",
   "execution_count": null,
   "metadata": {},
   "outputs": [],
   "source": [
    "# # Link the over-rotation errors on Gx and Gy\n",
    "#model.collect_parameters(model.parameter_labels[-2:], 'Shared Gx/Gy physical parameter')\n",
    "#print(model.parameter_labels)\n",
    "print(model.num_params)\n",
    "\n",
    "# # Define the error model used to generate data\n",
    "# datagen_model = model.copy()\n",
    "# datagen_params = datagen_model.to_vector()\n",
    "# datagen_params[-1:] = [1.02]\n",
    "# datagen_model.from_vector(datagen_params)\n",
    "# datagen_model.probabilities( (('Gxpi2',0),('Gypi2',0),))"
   ]
  },
  {
   "cell_type": "code",
   "execution_count": null,
   "metadata": {},
   "outputs": [],
   "source": [
    "# Define the perfect target model\n",
    "target_model = model.copy()\n",
    "target_params = target_model.to_vector()\n",
    "target_params[-2:] = [1,1]\n",
    "# target_model.from_vector(target_params)\n",
    "target_model.probabilities( (('Gxpi2',0),('Gypi2',0),))"
   ]
  },
  {
   "cell_type": "markdown",
   "metadata": {},
   "source": [
    "### Germ and fiducial selection"
   ]
  },
  {
   "cell_type": "code",
   "execution_count": null,
   "metadata": {
    "scrolled": true
   },
   "outputs": [],
   "source": [
    "final_germs = pygsti.algorithms.germselection.find_germs(\n",
    "                target_model, randomize=False, force=None, algorithm='greedy', \n",
    "                verbosity=4, num_nongauge_params=2)"
   ]
  },
  {
   "cell_type": "code",
   "execution_count": null,
   "metadata": {},
   "outputs": [],
   "source": [
    "fiducial_pairs = pygsti.algorithms.fiducialpairreduction.find_sufficient_fiducial_pairs_per_germ(\n",
    "                                model, \n",
    "                                smq1Q_XY.prep_fiducials(),\n",
    "                                smq1Q_XY.meas_fiducials(), \n",
    "                                final_germs)"
   ]
  },
  {
   "cell_type": "code",
   "execution_count": null,
   "metadata": {},
   "outputs": [],
   "source": [
    "# # Reduce the number of fiducial pairs by hand, if you want\n",
    "\n",
    "# fiducial_pairs2 = fiducial_pairs.copy()\n",
    "# for key in fiducial_pairs2.keys():\n",
    "#     fiducial_pairs2[key] = fiducial_pairs2[key][0:2]\n",
    "# fiducial_pairs = fiducial_pairs2\n",
    "\n",
    "# print(fiducial_pairs)"
   ]
  },
  {
   "cell_type": "code",
   "execution_count": null,
   "metadata": {},
   "outputs": [],
   "source": [
    "# Use fiducial pair reductions\n",
    "exp_design = pygsti.protocols.StandardGSTDesign(model, \n",
    "                                                smq1Q_XY.prep_fiducials(), \n",
    "                                                smq1Q_XY.meas_fiducials(), \n",
    "                                                final_germs, \n",
    "                                                max_lengths=[1,2,4,8,16,32,64,128,256], \n",
    "                                                fiducial_pairs=fiducial_pairs,\n",
    "                                                include_lgst=False)\n",
    "\n",
    "dataset = pygsti.data.simulate_data(datagen_model, exp_design.all_circuits_needing_data,\n",
    "                                    num_samples=1000, seed=1234)\n",
    "\n",
    "data = pygsti.protocols.ProtocolData(exp_design, dataset)"
   ]
  },
  {
   "cell_type": "code",
   "execution_count": null,
   "metadata": {},
   "outputs": [],
   "source": [
    "len(data.dataset)"
   ]
  },
  {
   "cell_type": "markdown",
   "metadata": {},
   "source": [
    "## Fisher information matrix"
   ]
  },
  {
   "cell_type": "code",
   "execution_count": null,
   "metadata": {},
   "outputs": [],
   "source": [
    "fim = pygsti.tools.edesigntools.calculate_fisher_information_matrix(model,\n",
    "                                                                    exp_design.all_circuits_needing_data)"
   ]
  },
  {
   "cell_type": "code",
   "execution_count": null,
   "metadata": {},
   "outputs": [],
   "source": [
    "np.log(np.linalg.inv(fim))"
   ]
  },
  {
   "cell_type": "code",
   "execution_count": null,
   "metadata": {},
   "outputs": [],
   "source": [
    "plt.matshow(np.linalg.inv(fim))"
   ]
  },
  {
   "cell_type": "markdown",
   "metadata": {},
   "source": [
    "# Run GST on the dataset"
   ]
  },
  {
   "cell_type": "code",
   "execution_count": null,
   "metadata": {},
   "outputs": [],
   "source": [
    "proto = pygsti.protocols.GateSetTomography(model, gaugeopt_suite=None)\n",
    "results = proto.run(data)"
   ]
  },
  {
   "cell_type": "code",
   "execution_count": null,
   "metadata": {},
   "outputs": [],
   "source": [
    "# What is the estimated value of the error parameter?\n",
    "\n",
    "final_model = results.estimates['GateSetTomography'].models['final iteration estimate']\n",
    "print('Actual: ', datagen_model.to_vector()[-2:])\n",
    "print('Estimated: ', final_model.to_vector()[-2:])"
   ]
  },
  {
   "cell_type": "code",
   "execution_count": null,
   "metadata": {
    "scrolled": true
   },
   "outputs": [],
   "source": [
    "pprint(np.sqrt(2)*final_model.to_vector()[0:4])\n",
    "pprint(np.sqrt(2)*final_model.to_vector()[4:8])\n",
    "pprint(np.sqrt(2)*final_model.to_vector()[8:12])"
   ]
  },
  {
   "cell_type": "code",
   "execution_count": null,
   "metadata": {},
   "outputs": [],
   "source": []
  }
 ],
 "metadata": {
  "kernelspec": {
   "display_name": "Python (pygsti_interpygate)",
   "language": "python",
   "name": "pygsti_interpygate"
  },
  "language_info": {
   "codemirror_mode": {
    "name": "ipython",
    "version": 3
   },
   "file_extension": ".py",
   "mimetype": "text/x-python",
   "name": "python",
   "nbconvert_exporter": "python",
   "pygments_lexer": "ipython3",
   "version": "3.9.0"
  }
 },
 "nbformat": 4,
 "nbformat_minor": 4
}
